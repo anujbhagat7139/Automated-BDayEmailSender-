{
 "cells": [
  {
   "cell_type": "code",
   "execution_count": 1,
   "id": "7966247e",
   "metadata": {},
   "outputs": [
    {
     "name": "stdout",
     "output_type": "stream",
     "text": [
      "Dear Rishav Ranjan,\n",
      "\n",
      "It's your birthday! Have a great day!\n",
      "\n",
      "All my love,\n",
      "\n",
      "Anuj\n"
     ]
    }
   ],
   "source": [
    "import pandas as pd\n",
    "import numpy as np\n",
    "import smtplib\n",
    "import datetime as dt\n",
    "import random\n",
    "\n",
    "my_email=\"anujbahgat999@gmail.com\"\n",
    "my_password=\"mitjiwcynygpbbdv\"\n",
    "\n",
    "td=dt.datetime.now()\n",
    "today=(td.month,td.day)\n",
    "data=pd.read_csv(\"birthdays.csv\")\n",
    "data\n",
    "birthday_dict={(data_row[\"month\"],data_row[\"day\"]):data_row for (index,data_row) in data.iterrows()}\n",
    "if today in birthday_dict:\n",
    "    birthday_person=birthday_dict[today]\n",
    "    with open(f\"letter_{random.randint(1,3)}.txt\",\"r\") as letter_file:\n",
    "        content=letter_file.read()\n",
    "        birthday_name=birthday_person[\"name\"]\n",
    "        content=content.replace(\"[NAME]\",birthday_name)\n",
    "        print(content)\n",
    "        connection=smtplib.SMTP(\"smtp.gmail.com\")\n",
    "        connection.starttls()\n",
    "        connection.login(user=my_email,password=my_password)\n",
    "        connection.sendmail(from_addr=my_email,\n",
    "                            to_addrs=birthday_person[\"email\"],\n",
    "                            msg=f\"Subject:Happy Birthday {birthday_name}!\\n\\n{content}\")\n",
    "        \n",
    "    \n",
    "\n",
    "\n",
    "    \n",
    "       "
   ]
  },
  {
   "cell_type": "code",
   "execution_count": 10,
   "id": "a60a86ca",
   "metadata": {},
   "outputs": [
    {
     "name": "stdout",
     "output_type": "stream",
     "text": [
      "(12, 21)\n",
      "(2, 6)\n",
      "(6, 10)\n"
     ]
    }
   ],
   "source": [
    "for i in birthday_dict:\n",
    "    print(i)"
   ]
  },
  {
   "cell_type": "code",
   "execution_count": 24,
   "id": "63dc3d58",
   "metadata": {},
   "outputs": [
    {
     "data": {
      "text/plain": [
       "name               Test\n",
       "email    test@email.com\n",
       "year               1961\n",
       "month                12\n",
       "day                  21\n",
       "Name: 0, dtype: object"
      ]
     },
     "execution_count": 24,
     "metadata": {},
     "output_type": "execute_result"
    }
   ],
   "source": [
    "birthday_dict[(12,21)]"
   ]
  },
  {
   "cell_type": "code",
   "execution_count": 23,
   "id": "6faed608",
   "metadata": {},
   "outputs": [
    {
     "name": "stdout",
     "output_type": "stream",
     "text": [
      "Dear [NAME],\n",
      "\n",
      "It's your birthday! Have a great day!\n",
      "\n",
      "All my love,\n",
      "\n",
      "Angela\n"
     ]
    }
   ],
   "source": [
    "import random\n",
    "v=random.randint(1,3)\n",
    "with open(f\"letter_{v}.txt\") as letter_file:\n",
    "          print(letter_file.read())"
   ]
  },
  {
   "cell_type": "code",
   "execution_count": 31,
   "id": "1ee3a850",
   "metadata": {},
   "outputs": [
    {
     "data": {
      "text/plain": [
       "(6, 11)"
      ]
     },
     "execution_count": 31,
     "metadata": {},
     "output_type": "execute_result"
    }
   ],
   "source": [
    "today"
   ]
  },
  {
   "cell_type": "code",
   "execution_count": null,
   "id": "4c57acc3",
   "metadata": {},
   "outputs": [],
   "source": []
  }
 ],
 "metadata": {
  "kernelspec": {
   "display_name": "Python 3 (ipykernel)",
   "language": "python",
   "name": "python3"
  },
  "language_info": {
   "codemirror_mode": {
    "name": "ipython",
    "version": 3
   },
   "file_extension": ".py",
   "mimetype": "text/x-python",
   "name": "python",
   "nbconvert_exporter": "python",
   "pygments_lexer": "ipython3",
   "version": "3.9.12"
  }
 },
 "nbformat": 4,
 "nbformat_minor": 5
}
